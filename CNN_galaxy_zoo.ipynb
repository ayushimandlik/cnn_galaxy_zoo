{
 "cells": [
  {
   "cell_type": "markdown",
   "metadata": {},
   "source": [
    "# Galaxy Zoo CNN Classification"
   ]
  },
  {
   "cell_type": "markdown",
   "metadata": {},
   "source": [
    "##### In this script, we will train a Convolution Neural Network to classify optical galaxy images into spiral and elliptical patterns. These images were taking from the original Galaxy Zoo project.\n",
    "##### A Convolutional Neural Network consists of several multi-layer perceptrons. Its basic structure is given below:\n",
    "![alt text](CNN.png \"CNN\")"
   ]
  },
  {
   "cell_type": "markdown",
   "metadata": {},
   "source": [
    "The above chart is a typical example to show how the data flows in convolutional neural network. We have a convolutional layer, that identifies useful features from the image pixel values. This is followed by ReLU(Rectified Linear Unit) which is an activation function that converts all negative values into values between 0 and 1. The resultant images are called feature maps. Feature maps are usually then downsampled by maxpooling. This entire process generally forms one layer of a convolutional neural network. Usually several such layers are concanted to form a \"Deep Convolutional Neural Network\". Generally a fully-connected layer is added to the end of your last layer of cnn. This is followed by the final layer (also known as 'output layer') which has the number of your output classes. In the example given below this is two as it is a binary classification problem of spiral and elliptical galaxies."
   ]
  },
  {
   "cell_type": "code",
   "execution_count": 8,
   "metadata": {},
   "outputs": [],
   "source": [
    "from keras.preprocessing.image import ImageDataGenerator\n",
    "from keras.models import Sequential\n",
    "from keras.layers import Conv2D, MaxPooling2D\n",
    "from keras.layers import Activation, Dropout, Flatten, Dense\n",
    "from keras import backend as K\n",
    "from keras import optimizers\n",
    "import numpy as np\n",
    "import warnings\n",
    "warnings.filterwarnings('ignore')"
   ]
  },
  {
   "cell_type": "markdown",
   "metadata": {},
   "source": [
    "##### First, we need to give the dimensions of the images, and give the path to the directories where the images are kept in. \n",
    "##### Total Training samples = 49,563\n",
    "##### Total Validation samples = 12015"
   ]
  },
  {
   "cell_type": "code",
   "execution_count": 2,
   "metadata": {},
   "outputs": [],
   "source": [
    "img_width, img_height = 200,200\n",
    "\n",
    "train_data_dir = 'gxy_zoo/train'\n",
    "validation_data_dir = 'gxy_zoo/validation'\n",
    "\n",
    "nb_train_samples = 49563 \n",
    "nb_validation_samples = 12015\n",
    "\n",
    "# An epoch is a measure of the number of times all of the training vectors are used once to update the weights. For batch\n",
    "# training all of the training samples pass through the learning algorithm simultaneously in one epoch before weights are \n",
    "# updated.\n",
    "\n",
    "epochs = 10\n",
    "batch_size = 500"
   ]
  },
  {
   "cell_type": "markdown",
   "metadata": {},
   "source": [
    "##### First step is to visualise our data in order to identify if everything is as expected."
   ]
  },
  {
   "cell_type": "code",
   "execution_count": 7,
   "metadata": {},
   "outputs": [
    {
     "data": {
      "text/html": [
       "<img style='width: 120px; margin: 0px; float: left; border: 1px solid black;' src='gxy_zoo/train/Elliptical\\272487.jpg' /><img style='width: 120px; margin: 0px; float: left; border: 1px solid black;' src='gxy_zoo/train/Elliptical\\272500.jpg' /><img style='width: 120px; margin: 0px; float: left; border: 1px solid black;' src='gxy_zoo/train/Elliptical\\272525.jpg' /><img style='width: 120px; margin: 0px; float: left; border: 1px solid black;' src='gxy_zoo/train/Elliptical\\272533.jpg' /><img style='width: 120px; margin: 0px; float: left; border: 1px solid black;' src='gxy_zoo/train/Elliptical\\272615.jpg' /><img style='width: 120px; margin: 0px; float: left; border: 1px solid black;' src='gxy_zoo/train/Elliptical\\272633.jpg' /><img style='width: 120px; margin: 0px; float: left; border: 1px solid black;' src='gxy_zoo/train/Elliptical\\272665.jpg' /><img style='width: 120px; margin: 0px; float: left; border: 1px solid black;' src='gxy_zoo/train/Elliptical\\272712.jpg' /><img style='width: 120px; margin: 0px; float: left; border: 1px solid black;' src='gxy_zoo/train/Elliptical\\272733.jpg' /><img style='width: 120px; margin: 0px; float: left; border: 1px solid black;' src='gxy_zoo/train/Elliptical\\272736.jpg' /><img style='width: 120px; margin: 0px; float: left; border: 1px solid black;' src='gxy_zoo/train/Elliptical\\272737.jpg' /><img style='width: 120px; margin: 0px; float: left; border: 1px solid black;' src='gxy_zoo/train/Elliptical\\272744.jpg' /><img style='width: 120px; margin: 0px; float: left; border: 1px solid black;' src='gxy_zoo/train/Elliptical\\272754.jpg' /><img style='width: 120px; margin: 0px; float: left; border: 1px solid black;' src='gxy_zoo/train/Elliptical\\272807.jpg' /><img style='width: 120px; margin: 0px; float: left; border: 1px solid black;' src='gxy_zoo/train/Elliptical\\272816.jpg' /><img style='width: 120px; margin: 0px; float: left; border: 1px solid black;' src='gxy_zoo/train/Elliptical\\272818.jpg' /><img style='width: 120px; margin: 0px; float: left; border: 1px solid black;' src='gxy_zoo/train/Elliptical\\272842.jpg' /><img style='width: 120px; margin: 0px; float: left; border: 1px solid black;' src='gxy_zoo/train/Elliptical\\272909.jpg' /><img style='width: 120px; margin: 0px; float: left; border: 1px solid black;' src='gxy_zoo/train/Elliptical\\272964.jpg' /><img style='width: 120px; margin: 0px; float: left; border: 1px solid black;' src='gxy_zoo/train/Elliptical\\272997.jpg' />"
      ],
      "text/plain": [
       "<IPython.core.display.HTML object>"
      ]
     },
     "metadata": {},
     "output_type": "display_data"
    }
   ],
   "source": [
    "from IPython.display import Image, HTML, display\n",
    "from glob import glob\n",
    "imagesList=''.join( [\"<img style='width: 120px; margin: 0px; float: left; border: 1px solid black;' src='%s' />\" % str(s) \n",
    "                     for s in sorted(glob('gxy_zoo/train/Elliptical/272***.jpg')) ])\n",
    "display(HTML(imagesList))"
   ]
  },
  {
   "cell_type": "markdown",
   "metadata": {},
   "source": [
    "##### Now, we start building the model. We have used the sequential model in keras. Output of this snippet is a 3D feature map in the form: height, width and features"
   ]
  },
  {
   "cell_type": "code",
   "execution_count": 3,
   "metadata": {},
   "outputs": [],
   "source": [
    "if K.image_data_format() == 'channels_first':\n",
    "    input_shape = (3, img_width, img_height)\n",
    "else:\n",
    "    input_shape = (img_width, img_height, 3)\n",
    "\n",
    "model = Sequential()\n",
    "model.add(Conv2D(32, (3, 3), input_shape=input_shape))\n",
    "model.add(Activation('relu'))\n",
    "model.add(MaxPooling2D(pool_size=(2, 2)))\n",
    "\n",
    "model.add(Conv2D(32, (3, 3)))\n",
    "model.add(Activation('relu'))\n",
    "model.add(MaxPooling2D(pool_size=(2, 2)))\n",
    "\n",
    "model.add(Conv2D(64, (3, 3)))\n",
    "model.add(Activation('relu'))\n",
    "model.add(MaxPooling2D(pool_size=(2, 2)))"
   ]
  },
  {
   "cell_type": "markdown",
   "metadata": {},
   "source": [
    "##### After these layers, we convert our 3D feature maps to 1D feature vectors ith the help of 'flatten'. We use 'dropout' layer to prevent overfitting."
   ]
  },
  {
   "cell_type": "code",
   "execution_count": null,
   "metadata": {},
   "outputs": [],
   "source": [
    "model.add(Flatten())\n",
    "model.add(Dense(64))\n",
    "model.add(Activation('relu'))\n",
    "model.add(Dropout(0.5))\n",
    "model.add(Dense(1))\n",
    "model.add(Activation('sigmoid'))\n",
    "\n",
    "model.compile(loss='binary_crossentropy',\n",
    "              optimizer='rmsprop',\n",
    "              metrics=['accuracy'])\n",
    "\n",
    "# This is the augmentation configuration we will use for training:\n",
    "train_datagen = ImageDataGenerator(\n",
    "    rotation_range = 180,\n",
    "    rescale=1. / 255,\n",
    "    shear_range=0.2,\n",
    "    zoom_range=0.2,\n",
    "    horizontal_flip=True)\n",
    "\n",
    "# We use the 'rescaling' augmentation configuration for the testing batch, which  is a value by which we will multiply the\n",
    "# data before any other processing. Our original images consist in RGB coefficients in the 0-255, but such values would be \n",
    "# too high for our models to process (given a typical learning rate), so we target values between 0 and 1 instead by scaling \n",
    "# with a 1/255. factor.\n",
    "test_datagen = ImageDataGenerator(rescale=1. / 255)\n",
    "\n",
    "train_generator = train_datagen.flow_from_directory(\n",
    "    train_data_dir,\n",
    "    target_size=(img_width, img_height),\n",
    "    batch_size=batch_size,\n",
    "    class_mode='binary')\n",
    "\n",
    "validation_generator = test_datagen.flow_from_directory(\n",
    "    validation_data_dir,\n",
    "    target_size=(img_width, img_height),\n",
    "    batch_size=batch_size,\n",
    "    class_mode='binary')"
   ]
  },
  {
   "cell_type": "markdown",
   "metadata": {},
   "source": [
    "###### The Neural Network was trained for 15 epochs on two Nvidia TitanX Pascal GPUs. The whole training process took 5 hours. Weights of the final model is saved  as 'best_model.h5' . You would need Keras version 2.1.5 or later to read the best_model.h5 file. "
   ]
  },
  {
   "cell_type": "code",
   "execution_count": null,
   "metadata": {},
   "outputs": [],
   "source": [
    "model.fit_generator(\n",
    "    train_generator,\n",
    "    steps_per_epoch=nb_train_samples // batch_size,\n",
    "    epochs=epochs,\n",
    "    validation_data=validation_generator,\n",
    "    validation_steps=nb_validation_samples // batch_size)\n",
    "# model.predict_generator(validation_generator, steps = nb_validation_samples // batch_size)\n",
    "model.save_weights('best_model.h5')"
   ]
  },
  {
   "cell_type": "markdown",
   "metadata": {},
   "source": [
    "# Now to test our model on a few images (608 images)."
   ]
  },
  {
   "cell_type": "code",
   "execution_count": 96,
   "metadata": {},
   "outputs": [
    {
     "name": "stdout",
     "output_type": "stream",
     "text": [
      "Found 608 images belonging to 2 classes.\n",
      "608\n"
     ]
    }
   ],
   "source": [
    "from keras.models import load_model\n",
    "from keras.preprocessing import image\n",
    "from keras.preprocessing.image import ImageDataGenerator\n",
    "from keras.models import Sequential\n",
    "from keras.layers import Conv2D, MaxPooling2D\n",
    "from keras.layers import Activation, Dropout, Flatten, Dense\n",
    "from keras import backend as K\n",
    "from keras import optimizers\n",
    "import numpy as np\n",
    "from sklearn.metrics import confusion_matrix, f1_score, precision_score, recall_score \n",
    "from keras.utils.np_utils import to_categorical\n",
    "import math\n",
    "\n",
    "img_width, img_height = 200, 200\n",
    "if K.image_data_format() == 'channels_first':\n",
    "    input_shape = (3, img_width, img_height)\n",
    "else:\n",
    "    input_shape = (img_width, img_height, 3)\n",
    "\n",
    "batch_size = 50\n",
    "os.chdir('C:/Users/C5269612')\n",
    "\n",
    "model2 = Sequential()\n",
    "model2.add(Conv2D(32, (3, 3), input_shape=input_shape))\n",
    "model2.add(Activation('relu'))\n",
    "model2.add(MaxPooling2D(pool_size=(2, 2)))\n",
    "\n",
    "model2.add(Conv2D(32, (3, 3)))\n",
    "model2.add(Activation('relu'))\n",
    "model2.add(MaxPooling2D(pool_size=(2, 2)))\n",
    "\n",
    "model2.add(Conv2D(64, (3, 3)))\n",
    "model2.add(Activation('relu'))\n",
    "model2.add(MaxPooling2D(pool_size=(2, 2)))\n",
    "\n",
    "model2.add(Flatten())\n",
    "model2.add(Dense(64))\n",
    "model2.add(Activation('relu'))\n",
    "model2.add(Dropout(0.5))\n",
    "model2.add(Dense(1))\n",
    "model2.add(Activation('sigmoid'))\n",
    "\n",
    "model2.compile(loss='binary_crossentropy',\n",
    "              optimizer='rmsprop',\n",
    "              metrics=['accuracy'])\n",
    "\n",
    "model2.load_weights('best_model.h5')\n",
    "\n",
    "test_datagen = ImageDataGenerator(rescale=1./255)\n",
    "\n",
    "test_dir = 'gxy_zoo/test'\n",
    "\n",
    "test_generator = test_datagen.flow_from_directory(\n",
    "        test_dir,\n",
    "        target_size=(img_width, img_height),\n",
    "        batch_size=batch_size,\n",
    "        class_mode='binary')\n",
    "\n",
    "number_of_examples = len(test_generator.filenames)\n",
    "number_of_generator_calls = math.ceil(number_of_examples / (1.0 * batch_size)) \n",
    "# 1.0 above is to skip integer division\n",
    "\n",
    "test_labels = []\n",
    "\n",
    "for i in range(0,int(number_of_generator_calls)):\n",
    "    test_labels.extend(np.array(test_generator[i][1]))\n",
    "\n",
    "print(len(test_labels))\n",
    "predict = model2.predict_generator(test_generator,steps = number_of_generator_calls)\n",
    "np.save('predictions.npy', predict)"
   ]
  },
  {
   "cell_type": "markdown",
   "metadata": {},
   "source": [
    "##### The following code gives the f score, the precision and the recall of the model. Of course, using a bigger test data set  would give a better understanding of the quality of the model."
   ]
  },
  {
   "cell_type": "code",
   "execution_count": 97,
   "metadata": {},
   "outputs": [
    {
     "name": "stdout",
     "output_type": "stream",
     "text": [
      "F Score: 0.9036144578313252 Precision: 0.8287292817679558 Recall: 0.9933774834437086\n"
     ]
    }
   ],
   "source": [
    "test_labels = np.load('test_labels.npy')\n",
    "predict = np.load('predictions.npy')\n",
    "classified_results = np.rint(predict)\n",
    "f_score = f1_score(test_labels, classified_results, average='binary')\n",
    "precision_score = precision_score(test_labels, classified_results, average='binary')\n",
    "recall_score = recall_score(test_labels, classified_results, average='binary')\n",
    "print('F Score:', f_score, 'Precision:', precision_score, 'Recall:', recall_score)"
   ]
  },
  {
   "cell_type": "markdown",
   "metadata": {},
   "source": [
    "##### The confusion matrix given below shows that the neural network in this example is very good at identifying spiral galaxies. It identifies 99% of all spiral galaxies and 80% of all elliptocal galaxies correctly."
   ]
  },
  {
   "cell_type": "code",
   "execution_count": 98,
   "metadata": {},
   "outputs": [
    {
     "name": "stdout",
     "output_type": "stream",
     "text": [
      "Confusion matrix, without normalization\n",
      "[[244  62]\n",
      " [  2 300]]\n",
      "Normalized confusion matrix\n",
      "[[0.8  0.2 ]\n",
      " [0.01 0.99]]\n"
     ]
    },
    {
     "data": {
      "image/png": "[encoded data removed]",
      "text/plain": [
       "<Figure size 432x288 with 2 Axes>"
      ]
     },
     "metadata": {},
     "output_type": "display_data"
    },
    {
     "data": {
      "image/png": "[encoded data removed]",
      "text/plain": [
       "<Figure size 432x288 with 2 Axes>"
      ]
     },
     "metadata": {},
     "output_type": "display_data"
    }
   ],
   "source": [
    "import matplotlib.pyplot as plt\n",
    "from sklearn.metrics import confusion_matrix\n",
    "\n",
    "\n",
    "def plot_confusion_matrix(cm, classes,\n",
    "                          normalize=False,\n",
    "                          title='Confusion matrix',\n",
    "                          cmap=plt.cm.Blues):\n",
    "    \"\"\"\n",
    "    This function prints and plots the confusion matrix.\n",
    "    Normalization can be applied by setting `normalize=True`.\n",
    "    \"\"\"\n",
    "    if normalize:\n",
    "        cm = cm.astype('float') / cm.sum(axis=1)[:, np.newaxis]\n",
    "        print(\"Normalized confusion matrix\")\n",
    "    else:\n",
    "        print('Confusion matrix, without normalization')\n",
    "\n",
    "    print(cm)\n",
    "\n",
    "    plt.imshow(cm, interpolation='nearest', cmap=cmap)\n",
    "    plt.title(title)\n",
    "    plt.colorbar()\n",
    "    tick_marks = np.arange(len(classes))\n",
    "    plt.xticks(tick_marks, classes, rotation=45)\n",
    "    plt.yticks(tick_marks, classes)\n",
    "\n",
    "    fmt = '.2f' if normalize else 'd'\n",
    "    thresh = cm.max() / 2.\n",
    "    for i, j in itertools.product(range(cm.shape[0]), range(cm.shape[1])):\n",
    "        plt.text(j, i, format(cm[i, j], fmt),\n",
    "                 horizontalalignment=\"center\",\n",
    "                 color=\"white\" if cm[i, j] > thresh else \"black\")\n",
    "\n",
    "    plt.ylabel('True label')\n",
    "    plt.xlabel('Predicted label')\n",
    "    plt.tight_layout()\n",
    "\n",
    "class_names = ['Elliptical','Spiral']\n",
    "\n",
    "cnf_matrix = confusion_matrix(test_labels, classified_results)\n",
    "np.set_printoptions(precision=2)\n",
    "\n",
    "# Plot non-normalized confusion matrix\n",
    "plt.figure()\n",
    "plot_confusion_matrix(cnf_matrix, classes=class_names,\n",
    "                      title='Confusion matrix, without normalization')\n",
    "\n",
    "# Plot normalized confusion matrix\n",
    "plt.figure()\n",
    "plot_confusion_matrix(cnf_matrix, classes=class_names, normalize=True,\n",
    "                      title='Normalized confusion matrix')\n",
    "\n",
    "plt.show()"
   ]
  },
  {
   "cell_type": "markdown",
   "metadata": {},
   "source": [
    "Suggestions to Improve the Model.\n",
    "1. Increase the number of epochs\n",
    "2. Shuffle the training and validation data during training instead of having a fixed training and valdiation dataset.\n",
    "3. Use Transfer Learning which is a technique where you use the weights from a pre-trained neural network like \n",
    "VGG-16 or Inception-v3 and attach it to a simple cnn like the example shown above. One can then train \n",
    "only the last few layers of the simple cnn using back-propagation to get better results."
   ]
  }
 ],
 "metadata": {
  "kernelspec": {
   "display_name": "Python 3",
   "language": "python",
   "name": "python3"
  },
  "language_info": {
   "codemirror_mode": {
    "name": "ipython",
    "version": 3
   },
   "file_extension": ".py",
   "mimetype": "text/x-python",
   "name": "python",
   "nbconvert_exporter": "python",
   "pygments_lexer": "ipython3",
   "version": "3.6.5"
  }
 },
 "nbformat": 4,
 "nbformat_minor": 2
}
